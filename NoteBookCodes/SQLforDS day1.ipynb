{
 "cells": [
  {
   "cell_type": "markdown",
   "metadata": {},
   "source": [
    "<h1 style=\"color:red\" align=\"center\">SQL Basics</h1>"
   ]
  },
  {
   "cell_type": "markdown",
   "metadata": {},
   "source": [
    "# Introduction to SQL\n",
    "\n",
    "## What is SQL?\n",
    "SQL (Structured Query Language) is a standard language for accessing and manipulating databases.\n",
    "\n",
    "## Key Components\n",
    "\n",
    "### Data Definition Language (DDL)\n",
    "- **CREATE**: Creates new tables and databases.\n",
    "- **ALTER**: Modifies existing database structures.\n",
    "- **DROP**: Deletes tables or databases.\n",
    "\n",
    "### Data Manipulation Language (DML)\n",
    "- **SELECT**: Retrieves data from a database.\n",
    "- **INSERT**: Adds new data into a database.\n",
    "- **UPDATE**: Modifies existing data.\n",
    "- **DELETE**: Removes data from a database.\n",
    "\n",
    "### Data Control Language (DCL)\n",
    "- **GRANT**: Gives users access privileges.\n",
    "- **REVOKE**: Removes access privileges.\n",
    "\n",
    "### Transaction Control Language (TCL)\n",
    "- **COMMIT**: Saves the current transaction.\n",
    "- **ROLLBACK**: Undoes the current transaction.\n",
    "- **SAVEPOINT**: Sets a point to which a transaction can be rolled back."
   ]
  },
  {
   "cell_type": "markdown",
   "metadata": {},
   "source": [
    "# Key Features of SQL\n",
    "\n",
    "## 1. Data Retrieval\n",
    "- **SELECT**: Extracts data from a database.\n",
    "- Supports complex queries with **JOIN**, **WHERE**, **GROUP BY**, and **ORDER BY** clauses.\n",
    "\n",
    "## 2. Data Manipulation\n",
    "- **INSERT**: Adds new rows to a table.\n",
    "- **UPDATE**: Modifies existing data.\n",
    "- **DELETE**: Removes data from a table.\n",
    "\n",
    "## 3. Data Definition\n",
    "- **CREATE**: Creates databases, tables, views, and indexes.\n",
    "- **ALTER**: Modifies database objects.\n",
    "- **DROP**: Deletes databases, tables, and other objects.\n",
    "\n",
    "## 4. Data Control\n",
    "- **GRANT**: Provides user permissions.\n",
    "- **REVOKE**: Removes user permissions.\n",
    "\n",
    "## 5. Transaction Control\n",
    "- **COMMIT**: Saves transactions.\n",
    "- **ROLLBACK**: Undoes transactions.\n",
    "- **SAVEPOINT**: Sets points within transactions to which you can rollback.\n",
    "\n",
    "## 6. Data Integrity\n",
    "- Ensures data accuracy and consistency through:\n",
    "  - **Primary Key**: Uniquely identifies records.\n",
    "  - **Foreign Key**: Maintains referential integrity.\n",
    "  - **Unique**: Ensures all values in a column are unique.\n",
    "  - **Not Null**: Ensures a column cannot have NULL values.\n",
    "  - **Check**: Ensures values in a column meet specific criteria.\n",
    "\n",
    "## 7. Views\n",
    "- Creates virtual tables representing data subsets.\n",
    "- Provides simplified, secure access to complex queries.\n",
    "\n",
    "## 8. Stored Procedures and Functions\n",
    "- **Stored Procedures**: Precompiled collections of SQL statements for reusable logic.\n",
    "- **Functions**: Return a single value and can be used in SQL expressions.\n"
   ]
  },
  {
   "cell_type": "markdown",
   "metadata": {},
   "source": [
    "# Advantages of SQL\n",
    "\n",
    "1. **Standardized Language**\n",
    "   - Widely adopted and recognized by various database systems.\n",
    "\n",
    "2. **Simplicity**\n",
    "   - Easy to learn and use for managing and querying databases.\n",
    "\n",
    "3. **Versatility**\n",
    "   - Handles complex queries and a variety of database operations.\n",
    "\n",
    "4. **High Performance**\n",
    "   - Efficient for large data sets with advanced indexing and optimization.\n",
    "\n",
    "5. **Data Integrity**\n",
    "   - Ensures accuracy and consistency with constraints like primary keys and foreign keys.\n",
    "\n",
    "6. **Scalability**\n",
    "   - Suitable for small applications and large enterprise systems.\n"
   ]
  },
  {
   "cell_type": "markdown",
   "metadata": {},
   "source": [
    "# Disadvantages of SQL\n",
    "\n",
    "1. **Complexity with Large Databases**\n",
    "   - Performance can degrade with very large databases and complex queries.\n",
    "\n",
    "2. **Scalability Issues**\n",
    "   - While scalable, may not handle high-velocity data (big data) as efficiently as some NoSQL databases.\n",
    "\n",
    "3. **Rigid Schema**\n",
    "   - Requires predefined schema, making it less flexible for unstructured or semi-structured data.\n",
    "\n",
    "4. **Cost**\n",
    "   - Commercial SQL database systems (e.g., Oracle, SQL Server) can be expensive.\n",
    "\n",
    "5. **Limited for Hierarchical Data**\n",
    "   - Handling deeply nested or hierarchical data can be cumbersome compared to NoSQL databases designed for such structures.\n"
   ]
  },
  {
   "cell_type": "markdown",
   "metadata": {},
   "source": [
    "# Types of Databases\n",
    "\n",
    "1. **Relational Databases (RDBMS)**\n",
    "2. **NoSQL Databases**\n",
    "3. **Object-oriented Databases**\n",
    "4. **Distributed Databases**\n",
    "5. **Data Warehouses**\n",
    "6. **Graph Databases**\n",
    "7. **Hierarchical Databases**\n",
    "8. **Network Databases**\n",
    "9. **Cloud Databases**\n",
    "10. **Time-series Databases**\n"
   ]
  },
  {
   "cell_type": "markdown",
   "metadata": {},
   "source": [
    "## Entity-Relationship Diagram (ERD)\n",
    "\n",
    "### Definition\n",
    "An Entity-Relationship Diagram (ERD) is a visual representation of the entities, attributes, and relationships within a database.\n",
    "\n",
    "### Components\n",
    "\n",
    "#### 1. Entities\n",
    "- Objects or concepts, usually represented by rectangles.\n",
    "- Examples: `Customer`, `Order`, `Product`.\n",
    "\n",
    "#### 2. Attributes\n",
    "- Properties or details about entities, usually represented by ovals.\n",
    "- Examples: `CustomerID`, `CustomerName`, `OrderDate`.\n",
    "\n",
    "#### 3. Relationships\n",
    "- Connections between entities, usually represented by diamonds.\n",
    "- Examples: `Customer places Order`, `Order contains Product`.\n",
    "\n",
    "#### 4. Primary Key\n",
    "- Unique identifier for an entity, often underlined.\n",
    "- Example: `CustomerID` for `Customer`.\n",
    "\n",
    "#### 5. Foreign Key\n",
    "- Attribute that creates a relationship between entities.\n",
    "- Example: `CustomerID` in `Order` to link `Order` to `Customer`.\n",
    "\n"
   ]
  },
  {
   "cell_type": "markdown",
   "metadata": {},
   "source": [
    "#### Below is the ERD Diagram of \"Parch & Posey\".\n",
    "\n",
    "![erd_diagram.png](attachment:erd_diagram.png)\n",
    "\n",
    "\n",
    "\n",
    "### SQL Database File\n",
    "\n",
    "[Parch and Posey Database ](https://github.com/m-soro/Business-Analytics/blob/main/SQL-for-Data-Analysis/L1-Basic-SQL/Misc/parch-and-posey.sql)\n",
    "\n",
    "#### Install all the required file and understand the ERD Diagram of \"Parch and Posey Databse\" for further topics."
   ]
  },
  {
   "cell_type": "markdown",
   "metadata": {},
   "source": [
    "## Basic SQL Commands\n",
    "\n",
    "### SELECT\n",
    "```sql\n",
    "SELECT column1, column2 FROM table_name;"
   ]
  },
  {
   "cell_type": "markdown",
   "metadata": {},
   "source": [
    "### INSERT \n",
    "```sql\n",
    "INSERT INTO table_name (column1, column2) VALUES (value1, value2);\n",
    "\n"
   ]
  },
  {
   "cell_type": "markdown",
   "metadata": {},
   "source": [
    "### UPDATE\n",
    "```sql\n",
    "UPDATE table_name SET column1 = value1, column2 = value2 WHERE condition;\n"
   ]
  },
  {
   "cell_type": "markdown",
   "metadata": {},
   "source": [
    "### DELETE\n",
    "```sql\n",
    "DELETE FROM table_name WHERE condition;\n"
   ]
  }
 ],
 "metadata": {
  "language_info": {
   "name": "python"
  }
 },
 "nbformat": 4,
 "nbformat_minor": 2
}
