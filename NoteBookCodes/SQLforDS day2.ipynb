{
 "cells": [
  {
   "cell_type": "markdown",
   "metadata": {},
   "source": [
    "<h1 style=\"color:red\" align=\"center\">SQL Statements</h1>"
   ]
  },
  {
   "cell_type": "markdown",
   "metadata": {},
   "source": [
    "# Data Manipulation Language (DML)\n",
    "\n",
    "DML statements are used for managing data within database objects.\n"
   ]
  },
  {
   "cell_type": "markdown",
   "metadata": {},
   "source": [
    "## Key DML Statements\n",
    "\n",
    "### SELECT Statement\n",
    "\n",
    "The SELECT statement is used to retrieve data from a database table or tables. It allows you to specify which columns of data you want to retrieve and filter the rows based on specific conditions.\n",
    "\n",
    "### Syntax\n",
    "\n",
    "```sql\n",
    "SELECT column1, column2, ...\n",
    "FROM table_name\n",
    "WHERE condition;\n",
    "\n"
   ]
  },
  {
   "cell_type": "markdown",
   "metadata": {},
   "source": [
    "Let's breakdown it's major parts.\n",
    "\n",
    "- **column1, column2, ...**: Columns you want to retrieve from the table. You can specify multiple columns separated by commas, or use '*' to select all columns.\n",
    "- **table_name**: Name of the table from which you want to retrieve data.\n",
    "- **condition**: Optional condition to filter the rows returned by the query. It specifies the criteria that must be met for a row to be included in the result set.\n"
   ]
  },
  {
   "cell_type": "markdown",
   "metadata": {},
   "source": [
    "## Components of SELECT Statement\n",
    "\n",
    "The SELECT statement in SQL consists of several components:\n",
    "\n",
    "1. **SELECT Clause**:\n",
    "   - Specifies the columns you want to retrieve from the database table.\n",
    "   - You can specify multiple columns separated by commas or use '*' to select all columns.\n",
    "\n",
    "2. **FROM Clause**:\n",
    "   - Specifies the table or tables from which you want to retrieve data.\n",
    "   - It indicates the source of the data you are querying.\n",
    "\n",
    "3. **WHERE Clause** (Optional):\n",
    "   - Allows you to filter the rows returned by the query based on specific conditions.\n",
    "   - It specifies the criteria that must be met for a row to be included in the result set.\n",
    "\n",
    "4. **GROUP BY Clause** (Optional):\n",
    "   - Groups the result set by one or more columns.\n",
    "   - Typically used with aggregate functions like COUNT, SUM, AVG, etc., to perform calculations on grouped data.\n",
    "\n",
    "5. **HAVING Clause** (Optional):\n",
    "   - Applies a condition to the groups created by the GROUP BY clause.\n",
    "   - It filters the groups based on the specified condition.\n",
    "\n",
    "6. **ORDER BY Clause** (Optional):\n",
    "   - Sorts the result set based on one or more columns.\n",
    "   - You can specify ASC (ascending) or DESC (descending) order for each column.\n",
    "\n",
    "7. **LIMIT Clause** (Optional):\n",
    "   - Restricts the number of rows returned by the query to a specified number.\n",
    "   - Useful for pagination or limiting the amount of data retrieved.\n",
    "\n",
    "8. **OFFSET Clause** (Optional):\n",
    "   - Specifies the number of rows to skip before starting to return rows.\n",
    "   - Often used in conjunction with the LIMIT clause for pagination.\n",
    "\n",
    "9. **DISTINCT Keyword** (Optional):\n",
    "   - Removes duplicate rows from the result set.\n",
    "   - Only unique rows are returned.\n",
    "\n",
    "10. **Aggregate Functions** (Optional):\n",
    "    - Functions like COUNT, SUM, AVG, MIN, and MAX that perform calculations on the values in a column.\n",
    "    - Typically used with the SELECT and GROUP BY clauses to aggregate data.\n",
    "\n",
    "11. **Aliases** (Optional):\n",
    "    - Assigns temporary names to columns or tables in the query.\n",
    "    - Useful for improving readability or for referencing columns with long names.\n",
    "\n",
    "12. **Subqueries** (Optional):\n",
    "    - Queries nested within the main query.\n",
    "    - Can be used in the SELECT, FROM, WHERE, or HAVING clauses to perform more complex operations.\n",
    "\n",
    "These components can be combined and customized to retrieve the desired data from the database tables.\n"
   ]
  },
  {
   "cell_type": "markdown",
   "metadata": {},
   "source": [
    "#### Use the ERD Diagram to write and understand queries :\n",
    "\n",
    "![erd_diagram.png](attachment:erd_diagram.png)\n",
    "\n",
    "\n",
    "### Questions\n",
    "\n",
    "#### Try writing your own query to select only the *id, account_id, total, and occurred_at* columns for all orders in the orders table.\n",
    "\n",
    "`SELECT id, account_id, total, occurred_at \n",
    "FROM orders;`"
   ]
  }
 ],
 "metadata": {
  "language_info": {
   "name": "python"
  }
 },
 "nbformat": 4,
 "nbformat_minor": 2
}
