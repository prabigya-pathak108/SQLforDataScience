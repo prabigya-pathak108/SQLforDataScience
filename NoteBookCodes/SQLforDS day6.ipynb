{
 "cells": [
  {
   "cell_type": "markdown",
   "metadata": {},
   "source": [
    "# SQL Joins"
   ]
  },
  {
   "cell_type": "markdown",
   "metadata": {},
   "source": [
    "Joins in SQL are used to combine rows from two or more tables based on related columns between them. They enable us to combine data from multiple database tables, unleashing the true power of data integration and analysis. Mastering SQL Joins will undoubtedly elevate your data manipulation skills.\n",
    "\n",
    "#### Use the ERD Diagram to understand and write queries :\n",
    "\n",
    "![ERD.png](attachment:ERD.png)\n",
    "\n",
    "## Types of Joins\n",
    "1. **INNER JOIN**: Returns rows that have matching values in both tables.\n",
    "2. **LEFT JOIN (or LEFT OUTER JOIN)**: Returns all rows from the left table and matching rows from the right table.\n",
    "3. **RIGHT JOIN (or RIGHT OUTER JOIN)**: Returns all rows from the right table and matching rows from the left table.\n",
    "4. **FULL JOIN (or FULL OUTER JOIN)**: Returns all rows when there is a match in either the left or right table.\n",
    "5. **CROSS JOIN**: Returns the Cartesian product of the two tables, i.e., all possible combinations of rows from both tables.\n",
    "\n",
    "## Use Cases\n",
    "\n",
    "1. **Combining Data from Multiple Sources**: Joins allow data scientists to merge data from different tables or datasets based on related columns, enabling comprehensive analysis of interconnected data.\n",
    "\n",
    "2. **Creating Feature Sets**: Data scientists often need to create feature sets for machine learning models by combining information from multiple tables. Joins facilitate the creation of these feature sets by merging relevant data.\n",
    "\n",
    "3. **Analyzing Relational Data**: Many real-world datasets are structured in a relational format, with data spread across multiple tables. Joins enable data scientists to analyze these relational datasets by linking information from different tables.\n",
    "\n",
    "4. **Data Cleansing and Enrichment**: Joins can be used to clean and enrich datasets by combining them with reference tables containing additional information, such as lookup tables for standardizing categorical data or reference tables for enriching data with external sources.\n",
    "\n",
    "\n",
    "## Importance in Data Science Work\n",
    "\n",
    "1. **Data Integration**: Joins play a crucial role in integrating data from diverse sources, providing data scientists with a comprehensive view of the underlying data relationships.\n",
    "\n",
    "2. **Feature Engineering**: Effective feature engineering is essential for building accurate machine learning models. Joins enable data scientists to create informative features by combining relevant data from different tables.\n",
    "\n",
    "3. **Insight Generation**: By combining data from multiple tables, joins empower data scientists to uncover valuable insights and patterns hidden within relational datasets, leading to informed decision-making.\n",
    "\n",
    "4. **Model Performance**: The quality of features used in machine learning models significantly impacts model performance. Joins facilitate the creation of meaningful features, thereby enhancing the predictive power of models.\n",
    "\n",
    "5. **Data Enrichment**: Joins enable data scientists to enrich datasets with additional information, enhancing the depth and quality of analysis and enabling more comprehensive insights.\n",
    "\n"
   ]
  },
  {
   "cell_type": "markdown",
   "metadata": {},
   "source": [
    "## Syntax\n",
    "```sql\n",
    "SELECT columns\n",
    "FROM table1\n",
    "JOIN table2 ON table1.column_name = table2.column_name;"
   ]
  },
  {
   "cell_type": "markdown",
   "metadata": {},
   "source": [
    "### Example\n",
    "```sql\n",
    "SELECT Employees.EmployeeID, Employees.FirstName, Employees.LastName, Departments.DepartmentName\n",
    "FROM Employees\n",
    "INNER JOIN Departments ON Employees.DepartmentID = Departments.DepartmentID;\n"
   ]
  },
  {
   "cell_type": "markdown",
   "metadata": {},
   "source": [
    "In this example, an INNER JOIN is used to combine rows from the 'Employees' table with rows from the 'Departments' table based on the common 'DepartmentID' column."
   ]
  },
  {
   "cell_type": "markdown",
   "metadata": {},
   "source": [
    "### Use in above ERD diagram\n",
    "\n",
    "#### Below we see an example of a query using a JOIN statement. Let's discuss what the different clauses of this query.\n",
    "```sql\n",
    "SELECT orders.*\n",
    "FROM orders\n",
    "JOIN accounts\n",
    "ON orders.account_id = accounts.id;\n"
   ]
  },
  {
   "cell_type": "markdown",
   "metadata": {},
   "source": [
    "\n",
    " The SELECT clause indicates which columns of data you'd like to see in the output (For Example, orders. gives us all the columns in orders table in the output).\n",
    "\n",
    " The FROM clause indicates the first table from which we're pulling data, and the JOIN indicates the second table.\n",
    "\n",
    " The ON clause specifies the column on which you'd like to merge the two tables together.\n",
    "\n",
    " We are able to pull data from two tables :\n",
    "\n",
    "- #### orders\n",
    "- #### accounts\n",
    "\n",
    " Above, we are only pulling data from the orders table since in the SELECT statement we only reference columns from the orders table.\n",
    "\n",
    " The ON statement holds the two columns that get linked across the two tables."
   ]
  },
  {
   "cell_type": "markdown",
   "metadata": {},
   "source": [
    "# Primary and Foreign Keys in SQL\n",
    "\n",
    "## Primary Key\n",
    "- **Definition**: A primary key is a column or a set of columns that uniquely identifies each row in a table. It must contain unique values and cannot contain NULL values.\n",
    "- **Purpose**: Ensures data integrity by enforcing entity integrity and providing a unique identifier for each record in the table.\n",
    "- **Example**: In a 'orders' table, the 'id' column can be designated as the primary key, ensuring that each ordder has a unique identifier.\n",
    "\n",
    "## Foreign Key\n",
    "- **Definition**: A foreign key is a column or a set of columns in one table that refers to the primary key in another table. It establishes a relationship between the two tables.\n",
    "- **Purpose**: Enforces referential integrity by ensuring that values in the foreign key column(s) correspond to existing values in the primary key column of the referenced table.\n",
    "- **Example**: Int Parch & Posey ERD the foreign keys are:\n",
    "\n",
    "- ##### region_id\n",
    "- ##### account_id\n",
    "- ##### sales_rep_id\n",
    "\n",
    "Each of these is linked to the primary key of another table.\n",
    "\n",
    "## Importance\n",
    "- **Data Integrity**: Primary and foreign keys play a crucial role in maintaining data integrity within a database by enforcing entity integrity and referential integrity.\n",
    "- **Relationships**: They facilitate the establishment of relationships between tables, allowing for the creation of complex data models that accurately represent real-world relationships.\n",
    "- **Query Optimization**: Properly defined keys can improve query performance by enabling efficient data retrieval and join operations.\n"
   ]
  },
  {
   "cell_type": "markdown",
   "metadata": {},
   "source": [
    "## Alias in SQL\n",
    "\n",
    "In SQL, an alias is a temporary name assigned to a table or a column in a query. It provides an alternative name that can be used to reference the table or column within the query.\n",
    "\n",
    "### Purpose\n",
    "- **Shortening Names**: Aliases can be used to shorten lengthy table or column names, improving the readability of queries.\n",
    "- **Self-Reference**: Aliases enable self-reference within a query, allowing you to refer to a table or column by a different name.\n",
    "- **Aggregate Functions**: Aliases are commonly used with aggregate functions to provide meaningful names to the result columns.\n",
    "\n",
    "### Syntax\n",
    "```sql\n",
    "SELECT alias.column1, alias.column2\n",
    "FROM table_name AS alias;"
   ]
  },
  {
   "cell_type": "markdown",
   "metadata": {},
   "source": [
    "#### Example 2\n",
    "```sql\n",
    "FROM tablename AS t1\n",
    "JOIN tablename2 AS t2```\n",
    "\n",
    "### Aliases for Columns in Resulting Table\n",
    "\n",
    "#### While aliasing tables is the most common use case. It can also be used to alias the columns selected to have the resulting table reflect a more readable name.\n",
    "\n",
    "### Example\n",
    "\n",
    "`Select t1.column1 aliasname, t2.column2 aliasname2\n",
    "FROM tablename AS t1\n",
    "JOIN tablename2 AS t2`"
   ]
  },
  {
   "cell_type": "markdown",
   "metadata": {},
   "source": [
    "Every JOIN we have done up to this point has been an INNER JOIN. That is, we have always pulled rows only if they exist as a match across two tables.\n",
    "\n",
    " Our new JOINs allow us to pull rows that might only exist in one of the two tables. This will introduce a new data type called NULL.\n",
    "\n",
    "<h1 style=\"color:white\">LEFT and RIGHT JOIN</h1>\n",
    "\n",
    "-  LEFT JOIN - Returns all rows from the left table and matching rows from the right table, where the join condition is met. If there is no match, NULL values are included for columns from the right table. It is useful for retrieving all rows from the left table, along with related data from the right table if available.\n",
    "### Syntax\n",
    "```sql\n",
    "SELECT columns\n",
    "FROM table1\n",
    "LEFT JOIN table2 ON table1.column_name = table2.column_name;"
   ]
  },
  {
   "cell_type": "markdown",
   "metadata": {},
   "source": [
    "-  RIGHT JOIN - Returns all rows from the right table and matching rows from the left table, where the join condition is met. If there is no match, NULL values are included for columns from the left table. It ensures that all rows from the right table are included in the result.\n",
    " ### Syntax\n",
    "```sql\n",
    "SELECT columns\n",
    "FROM table1\n",
    "RIGHT JOIN table2 ON table1.column_name = table2.column_name;\n"
   ]
  }
 ],
 "metadata": {
  "language_info": {
   "name": "python"
  }
 },
 "nbformat": 4,
 "nbformat_minor": 2
}
