{
 "cells": [
  {
   "cell_type": "markdown",
   "metadata": {},
   "source": [
    "## SQL Aggregation and GROUP BY\n",
    "\n",
    "In SQL, aggregation functions are used to perform calculations on groups of rows, while the GROUP BY clause is used to divide the rows into groups based on one or more columns.\n",
    "\n",
    "### Aggregation Functions\n",
    "\n",
    "Common aggregation functions include:\n",
    "- **COUNT()**: Counts the number of rows in a group.\n",
    "- **SUM()**: Calculates the sum of values in a group.\n",
    "- **AVG()**: Calculates the average of values in a group.\n",
    "- **MIN()**: Returns the minimum value in a group.\n",
    "- **MAX()**: Returns the maximum value in a group.\n"
   ]
  },
  {
   "cell_type": "markdown",
   "metadata": {},
   "source": [
    "#### Use the ERD Diagram to understand and write queries :\n",
    "\n",
    "![ERD.png](attachment:ERD.png)\n",
    "\n",
    "\n",
    "## GROUP BY Clause in SQL\n",
    "\n",
    "In SQL, the GROUP BY clause is used to group rows that have the same values in specified columns into summary rows. It is typically used in conjunction with aggregate functions to perform calculations on groups of rows.\n",
    "\n",
    "### Syntax\n",
    "\n",
    "The basic syntax of the GROUP BY clause is as follows:\n",
    "```sql\n",
    "    SELECT column1, aggregate_function(column2)\n",
    "    FROM table_name\n",
    "    GROUP BY column1;\n",
    "```\n",
    "\n",
    "#### Example\n",
    "Now, let's say we want to calculate the total quantity of poster_qty ordered. We can use the GROUP BY clause along with the SUM() function to achieve this :\n",
    "\n",
    "```sql\n",
    "    SELECT account_id, SUM(poster_qty) AS total_quantity \n",
    "    FROM orders \n",
    "    GROUP BY account_id;\n",
    "```\n",
    "\n",
    "In this example, the query groups the rows in the \"orders\" table by the \"product\" column using GROUP BY. Then, the SUM() function is applied to each group to calculate the total quantity of poster_qty ordered. The result shows the total quantity for each product.\n"
   ]
  },
  {
   "cell_type": "markdown",
   "metadata": {},
   "source": [
    "## HAVING Clause in SQL\n",
    "\n",
    "In SQL, the HAVING clause is used in conjunction with the GROUP BY clause to filter the groups that result from the GROUP BY operation based on specified conditions.\n",
    "\n",
    "### Syntax\n",
    "\n",
    "The basic syntax of the HAVING clause is as follows:\n",
    "```sql\n",
    "    SELECT column1, aggregate_function(column2)\n",
    "    FROM table_name\n",
    "    GROUP BY column1\n",
    "    HAVING condition;\n",
    "```\n",
    "\n",
    "Let's say we want to find ids with a total poster quantity greater than or equal to 10. We can use the HAVING clause to filter the results :\n",
    "\n",
    "```sql\n",
    "    SELECT account_id, SUM(poster_qty) AS total_quantity \n",
    "    FROM orders \n",
    "    GROUP BY account_id;\n",
    "    HAVING SUM(poster_qty) >= 10;\n",
    "```\n",
    "\n",
    "In this example, we use GROUP BY to group the data by \"account_id\" and then calculate the total quantity of each poster ordered using the SUM() function. However, we only want to see products with a total quantity of 10 or more. So, we use the HAVING clause to apply the filter after the aggregation is done.\n",
    "\n",
    "The HAVING clause allows us to perform conditional filtering on the aggregated results, ensuring that only groups that meet specific criteria are included in the final result set.\n",
    "\n",
    "Keep in mind that the HAVING clause is applied after the GROUP BY clause, and it filters the grouped results based on aggregate functions. It is different from the WHERE clause, which filters individual rows before the grouping and aggregation take place."
   ]
  }
 ],
 "metadata": {
  "language_info": {
   "name": "python"
  }
 },
 "nbformat": 4,
 "nbformat_minor": 2
}
