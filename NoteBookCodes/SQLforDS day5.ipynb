{
 "cells": [
  {
   "cell_type": "markdown",
   "metadata": {},
   "source": [
    "<h1 style=\"color:red\" align=\"center\">SQL Logical Operators</h1>"
   ]
  },
  {
   "cell_type": "markdown",
   "metadata": {},
   "source": [
    "## Introduction\n",
    "Logical operators in SQL allow for the creation of more sophisticated conditions in queries by combining multiple individual conditions.\n",
    "\n",
    "## Use Cases\n",
    "- Filtering data based on multiple criteria.\n",
    "- Creating complex search queries.\n",
    "- Specifying conditions for data retrieval.\n",
    "\n",
    "## Advantages\n",
    "- Enables flexible and precise data filtering.\n",
    "- Supports creation of complex queries to meet specific requirements.\n",
    "- Allows for conditional data retrieval based on various scenarios.\n",
    "\n",
    "## Limitations\n",
    "- Complexity increases with the number of conditions, potentially making queries harder to understand and maintain.\n",
    "- Overuse of complex conditions can degrade query performance.\n",
    "- Requires careful consideration to avoid logical errors in queries.\n",
    "\n",
    "\n",
    "#### Use the ERD Diagram to understand and write queries :\n",
    "\n",
    "![ERD.png](attachment:ERD.png)"
   ]
  },
  {
   "cell_type": "markdown",
   "metadata": {},
   "source": [
    "### AND Operator in SQL\n",
    "\n",
    "The AND operator in SQL is used to combine two or more conditions in a WHERE clause. All conditions must be true for the row to be included in the result set.\n",
    "\n",
    "#### Syntax\n",
    "```sql\n",
    "SELECT column1, column2, ...\n",
    "FROM table_name\n",
    "WHERE condition1 AND condition2 AND ...;\n"
   ]
  },
  {
   "cell_type": "markdown",
   "metadata": {},
   "source": [
    "### Example Using AND :\n",
    "\n",
    "#### Write a query that returns all the orders where the standard_qty is over 1100, the poster_qty is 0, and the gloss_qty is 0.\n",
    "\n",
    "`SELECT *\n",
    "FROM orders\n",
    "WHERE standard_qty > 1100 AND poster_qty = 0 AND gloss_qty = 0;`"
   ]
  },
  {
   "cell_type": "markdown",
   "metadata": {},
   "source": [
    "## OR Operator in SQL\n",
    "\n",
    "The OR operator in SQL is used to combine two or more conditions in a WHERE clause. At least one of the conditions must be true for the row to be included in the result set.\n",
    "\n",
    "#### Syntax\n",
    "```sql\n",
    "SELECT column1, column2, ...\n",
    "FROM table_name\n",
    "WHERE condition1 OR condition2 OR ...;"
   ]
  },
  {
   "cell_type": "markdown",
   "metadata": {},
   "source": [
    "#### LIKE, IN, NOT, AND and BETWEEN logic can all be linked together using the OR operator.\n",
    "\n",
    "### Example Using OR :\n",
    "\n",
    "#### Find list of orders ids where either gloss_qty or poster_qty is greater than 5000. Only include the id field in the resulting table.\n",
    "\n",
    "`SELECT id\n",
    "FROM orders\n",
    "WHERE gloss_qty > 5000 OR poster_qty > 5000;`"
   ]
  },
  {
   "cell_type": "markdown",
   "metadata": {},
   "source": [
    "## NOT Operator in SQL\n",
    "\n",
    "The NOT operator in SQL is used to negate a condition in a WHERE clause. It returns rows where the specified condition is false.\n",
    "\n",
    "#### Syntax\n",
    "```sql\n",
    "SELECT column1, column2, ...\n",
    "FROM table_name\n",
    "WHERE NOT condition;"
   ]
  },
  {
   "cell_type": "markdown",
   "metadata": {},
   "source": [
    "#### The NOT operator is an extremely useful operator for working with these two operators IN and LIKE. By specifying NOT LIKE or NOT IN, we can grab all of the rows that do not meet a particular criteria.\n",
    "\n",
    "### Example Using NOT :\n",
    "\n",
    "#### Use the accounts table to find the account name, primary poc, and sales rep id for all stores except Walmart, Target, and Nordstrom.\n",
    "\n",
    "`SELECT name, primary_poc, sales_rep_id\n",
    "FROM accounts\n",
    "WHERE name NOT IN ('Walmart', 'Target', 'Nordstrom');`"
   ]
  },
  {
   "cell_type": "markdown",
   "metadata": {},
   "source": [
    "## LIKE Operator in SQL\n",
    "\n",
    "The LIKE operator in SQL is used to search for a specified pattern in a column. It is commonly used with the WHERE clause to filter rows based on patterns rather than exact matches.\n",
    "\n",
    "#### Syntax\n",
    "```sql\n",
    "SELECT column1, column2, ...\n",
    "FROM table_name\n",
    "WHERE column_name LIKE pattern;\n"
   ]
  },
  {
   "cell_type": "markdown",
   "metadata": {},
   "source": [
    "- **column_name**: The column in which you want to search for the pattern.\n",
    "- **pattern**: The pattern to search for. It can include wildcard characters.\n",
    "\n",
    "The LIKE operator is extremely useful for working with text. You will use LIKE within a WHERE clause. The LIKE operator is frequently used with %. \n",
    "\n",
    "The % tells us that we might want any number of characters leading up to a particular set of characters or following a certain set of characters. Remember you will need to use single quotes for the text you pass to the LIKE operator, because of this lower and uppercase letters are not the same within the string. Searching for 'T' is not the same as searching for 't'. \n",
    "\n",
    "#### Wildcard Characters\n",
    "\n",
    "- **%**: Represents zero or more characters.\n",
    "- **_**: Represents a single character.\n"
   ]
  },
  {
   "cell_type": "markdown",
   "metadata": {},
   "source": [
    "### Example\n",
    "\n",
    "#### The following SQL statement selects all customers with a name starting with \"a\" in accounts table :\n",
    "\n",
    "`SELECT * \n",
    "FROM accounts\n",
    "WHERE name LIKE 'a%';`\n",
    "\n",
    "#### The following SQL statement selects all customers with a name ending with \"a\" in accounts table :\n",
    "\n",
    "`SELECT *\n",
    "FROM accounts\n",
    "WHERE name LIKE '%a';`\n",
    "\n",
    "#### The following SQL statement selects all customers with a name that have \"or\" in any place in their name in accounts table :\n",
    "\n",
    "`SELECT * \n",
    "FROM accounts\n",
    "WHERE name LIKE '%or%';`\n",
    "\n",
    "#### The following SQL statement selects all customers with a name that have \"r\" in the second position in accounts table :\n",
    "\n",
    "`SELECT * \n",
    "FROM accounts\n",
    "WHERE name LIKE '_r%';`\n",
    "\n",
    "#### The following SQL statement selects all customers with a name that starts with \"a\" and are at least 3 characters in length from accounts table :\n",
    "\n",
    "`SELECT * \n",
    "FROM accounts\n",
    "WHERE name LIKE 'a__%';`\n",
    "\n",
    "#### The following SQL statement selects all customers with a name that starts with \"a\" and ends with \"o\" from accounts table :\n",
    "\n",
    "`SELECT * \n",
    "FROM accounts\n",
    "WHERE name LIKE 'a%o';`\n",
    "\n",
    "#### The following SQL statement selects all customers with name that does NOT start with \"a\" from accounts table :\n",
    "\n",
    "`SELECT * \n",
    "FROM accounts\n",
    "WHERE name NOT LIKE 'a%';`\n",
    "\n",
    "#### The following SQL statement selects all customers with a name starting with \"a\", \"t\", or \"p\" from accounts table :\n",
    "\n",
    "`SELECT * \n",
    "FROM accounts\n",
    "WHERE name LIKE '[atp]%';`\n",
    "\n",
    "#### The following SQL statement selects all customers with a name does not starting with \"a\", \"t\", or \"p\" from accounts table :\n",
    "\n",
    "`SELECT *\n",
    "FROM accounts\n",
    "WHERE name LIKE '[!atp]%';`"
   ]
  },
  {
   "cell_type": "markdown",
   "metadata": {},
   "source": [
    "## IN Operator in SQL\n",
    "\n",
    "The IN operator in SQL is used to specify multiple values in a WHERE clause. It allows you to filter rows based on whether a specified column value matches any value in a list.\n",
    "\n",
    "- **Purpose**: The IN operator is commonly used when you want to filter rows based on multiple specific values for a particular column.\n",
    "- **Scenario**: Suppose you have a 'Products' table with a 'Category' column, and you want to retrieve products that belong to certain categories, such as 'Electronics', 'Clothing', and 'Books'.\n",
    "- **Use**: Instead of writing multiple OR conditions, the IN operator provides a more concise and readable way to specify the desired categories.\n",
    "\n",
    "\n",
    "#### Syntax\n",
    "```sql\n",
    "SELECT column1, column2, ...\n",
    "FROM table_name\n",
    "WHERE column_name IN (value1, value2, ...);\n"
   ]
  },
  {
   "cell_type": "markdown",
   "metadata": {},
   "source": [
    "### Example\n",
    "\n",
    "#### Use the accounts table to find the account name, primary_poc, and sales_rep_id for Walmart, Target, and Nordstrom.\n",
    "\n",
    "`SELECT name, primary_poc, sales_rep_id\n",
    "FROM accounts\n",
    "WHERE name IN ('Walmart', 'Target', 'Nordstrom');`"
   ]
  },
  {
   "cell_type": "markdown",
   "metadata": {},
   "source": [
    "# BETWEEN Operator in SQL\n",
    "\n",
    "The BETWEEN operator in SQL is used to filter rows based on a range of values. It allows you to specify a range within which a column value must fall for the row to be included in the result set.\n",
    "\n",
    "- **Purpose**: The BETWEEN operator is commonly used when you want to filter rows based on a range of values for a particular column.\n",
    "- **Scenario**: Suppose you have a 'Sales' table with a 'OrderDate' column, and you want to retrieve sales transactions that occurred within a specific date range, such as between January 1, 2023, and March 31, 2023.\n",
    "- **Use**: The BETWEEN operator provides a concise way to specify the lower and upper bounds of the date range.\n",
    "\n",
    "## Syntax\n",
    "```sql\n",
    "SELECT column1, column2, ...\n",
    "FROM table_name\n",
    "WHERE column_name BETWEEN value1 AND value2;\n"
   ]
  },
  {
   "cell_type": "markdown",
   "metadata": {},
   "source": [
    "#### Sometimes we can make a cleaner statement using BETWEEN than we can using AND. Particularly this is true when we are using the same column for different parts of our AND statement.\n",
    "\n",
    "### Instead of writing :\n",
    "\n",
    "`WHERE column >= 6 AND column <= 10`\n",
    "\n",
    "### We can instead write, equivalently :\n",
    "\n",
    "`WHERE column BETWEEN 6 AND 10`"
   ]
  },
  {
   "cell_type": "markdown",
   "metadata": {},
   "source": [
    "### Difference Between IN and BETWEEN Operators in SQL\n",
    "\n",
    "- **Values**: \n",
    "   - **IN**: Specifies specific values in a list.\n",
    "   - **BETWEEN**: Specifies a range of values with a lower and upper bound.\n",
    "- **Usage**: \n",
    "   - **IN**: Suitable for discrete values or values from a predefined list.\n",
    "   - **BETWEEN**: Appropriate for continuous ranges of values, such as numerical or date ranges.\n",
    "- **Syntax**:\n",
    "   - **IN**: Uses a list of values enclosed in parentheses.\n",
    "   - **BETWEEN**: Specifies the lower and upper bounds of the range using the BETWEEN keyword followed by the lower and upper values.\n"
   ]
  }
 ],
 "metadata": {
  "language_info": {
   "name": "python"
  }
 },
 "nbformat": 4,
 "nbformat_minor": 2
}
