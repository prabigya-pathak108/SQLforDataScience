{
 "cells": [
  {
   "cell_type": "markdown",
   "metadata": {},
   "source": [
    "<h1 style=\"color:red\" align=\"center\">SQL WHERE Statement</h1>"
   ]
  },
  {
   "cell_type": "markdown",
   "metadata": {},
   "source": [
    "## WHERE Statement in SQL\n",
    "\n",
    "The WHERE statement in SQL is used to filter rows from a table based on specific conditions.\n",
    "\n",
    "### Use Case\n",
    "\n",
    "- **Purpose**: Filter rows based on specific conditions.\n",
    "- **Usage**: Essential for extracting data that meets certain criteria, such as specific values, ranges, or patterns.\n",
    "\n",
    "\n",
    "### Syntax\n",
    "```sql\n",
    "SELECT column1, column2, ...\n",
    "FROM table_name\n",
    "WHERE condition;"
   ]
  },
  {
   "cell_type": "markdown",
   "metadata": {},
   "source": [
    "**column1, column2, ...**: Columns you want to retrieve from the table.\n",
    "**table_name**: Name of the table from which you want to retrieve data.\n",
    "**condition**: Optional condition that specifies the criteria rows must meet to be included in the result set.\n"
   ]
  },
  {
   "cell_type": "markdown",
   "metadata": {},
   "source": [
    "#### Use the ERD Diagram to understand and write queries :\n",
    "\n",
    "![ERD.png](attachment:ERD.png)\n",
    "\n",
    "\n",
    "### Common operator's used in WHERE Statements include :\n",
    "\n",
    "* \\> (greater than)\n",
    "\n",
    "* \\< (less than)\n",
    "\n",
    "* \\>= (greater than or equal to)\n",
    "\n",
    "* \\<= (less than or equal to)\n",
    "\n",
    "* \\= (equal to)\n",
    "\n",
    "* \\!= (not equal to)"
   ]
  },
  {
   "cell_type": "markdown",
   "metadata": {},
   "source": [
    "### Example\n",
    "Pulls the first 20 rows and all columns from the orders table that have a total_amt_usd less than 400.\n",
    "```sql\n",
    "  SELECT *\n",
    "  FROM orders\n",
    "  WHERE total_amt_usd <400\n",
    "  LIMIT 20;\n",
    "```"
   ]
  },
  {
   "cell_type": "markdown",
   "metadata": {},
   "source": [
    "### WHERE Statement with Non-Numerical Data in SQL\n",
    "\n",
    "The WHERE statement in SQL can also be used with non-numerical data to filter rows based on specific conditions.\n",
    "\n",
    "#### The **WHERE** statement can also be used with **non-numeric data**. We can use the **= and **!=** operators here. You need to be sure to **use single quotes** (just be careful if you have quotes in the original text) with the text data, not double quotes.\n",
    "\n",
    "#### Commonly when we are using WHERE with non-numeric data fields, we use the LIKE, NOT, or IN operators.\n",
    "\n",
    "\n",
    "### Syntax\n",
    "```sql\n",
    "SELECT column1, column2, ...\n",
    "FROM table_name\n",
    "WHERE non_numerical_column = 'desired_value';"
   ]
  },
  {
   "cell_type": "markdown",
   "metadata": {},
   "source": [
    "### Example\n",
    "\n",
    "#### Filter the accounts table to include the company name, website, and the primary point of contact (primary_poc) just for the Exxon Robins company in the accounts table.\n",
    "\n",
    "`SELECT name, website, primary_poc\n",
    "FROM accounts\n",
    "WHERE name = 'Exxon Robins';`"
   ]
  },
  {
   "cell_type": "markdown",
   "metadata": {},
   "source": [
    "<h1 style=\"color:red\">Arithmetic Operator's with WHERE Statement</h1>\n",
    "\n",
    "#### Arithmetic operators can be used in conjunction with the WHERE statement in SQL to filter data based on mathematical conditions. These operators allow you to perform calculations and comparisons on numerical values within the database.\n",
    "\n",
    "### Here are the common arithmetic operators used in SQL along with the WHERE statement :\n",
    "\n",
    "## Addition\n",
    "\n",
    "`SELECT * \n",
    "FROM table_name \n",
    "WHERE column_name1 + column_name2 = 200;`\n",
    "\n",
    "## Subtraction\n",
    "\n",
    "`SELECT * \n",
    "FROM table_name \n",
    "WHERE column_name1 - column_name2 > 10;`\n",
    "\n",
    "## Multiplication\n",
    "\n",
    "`SELECT * \n",
    "FROM table_name \n",
    "WHERE column_name1 * column_name2 = 520;`\n",
    "\n",
    "## Division\n",
    "\n",
    "`SELECT * \n",
    "FROM table_name \n",
    "WHERE column_name1 / column_name2 < 21;`\n",
    "\n",
    "## Modulo\n",
    "\n",
    "`SELECT * \n",
    "FROM table_name \n",
    "WHERE column_name1 % 2 = 0;`"
   ]
  },
  {
   "cell_type": "markdown",
   "metadata": {},
   "source": [
    "<h1 style=\"color:white\">Derived Columns</h1>\n",
    "\n",
    "##### Creating a new column that is a combination of existing columns is known as a derived column. Usually you want to give a name, or \"alias,\" to your new column using the AS keyword.\n",
    "\n",
    "##### This derived column, and its alias, are generally only temporary, existing just for the duration of your query. The next time you run a query and access this table, the new column will not be there.\n",
    "\n",
    "##### If you are deriving the new column from existing columns using a mathematical expression, then these familiar mathematical operators will be useful :\n",
    "\n",
    "1. \\* (Multiplication)\n",
    "2. \\+ (Addition)\n",
    "3. \\- (Subtraction)\n",
    "4. \\/ (Division)"
   ]
  },
  {
   "cell_type": "markdown",
   "metadata": {},
   "source": [
    "### Example\n",
    "```sql\n",
    "  SELECT id, (standard_amt_usd/total_amt_usd)*100 AS std_percent, total_amt_usd\n",
    "  FROM orders\n",
    "  LIMIT 10;\n",
    "\n",
    "```\n",
    "#### Remember PEMDAS from math class to help remember the order of operations? The same order of operations applies when using arithmetic operators in SQL."
   ]
  },
  {
   "cell_type": "markdown",
   "metadata": {},
   "source": [
    "#### Exercises\n",
    "\n",
    "1. Create a column that divides the standard_amt_usd by the standard_qty to find the unit price for standard paper for each order. Limit the results to the first 10 orders, and include the id and account_id fields.\n",
    "\n",
    "```sql\n",
    "  SELECT id,account_id,standard_amt_usd/standard_qty AS unit_price\n",
    "  FROM orders\n",
    "  LIMIT 10;\n",
    "```"
   ]
  },
  {
   "cell_type": "markdown",
   "metadata": {},
   "source": [
    "2. Write a query that finds the percentage of revenue that comes from poster paper for each order. You will need to use only the columns that end with \\_usd. (Try to do this without using the total column.) Display the id and account_id fields also. NOTE - you will receive an error with the correct solution to this question. This occurs because at least one of the values in the data creates a division by zero in your formula. You will learn later in the course how to fully handle this issue. For now, you can just limit your calculations to the first 10 orders, as we did in question \\#1, and you'll avoid that set of data that causes the problem.\n",
    "\n",
    "```sql\n",
    "  SELECT\tid,account_id,poster_amt_usd/(standard_amt_usd + gloss_amt_usd + poster_amt_usd) AS post_per\n",
    "  FROM orders\n",
    "  LIMIT 10;\n",
    "  '''"
   ]
  }
 ],
 "metadata": {
  "language_info": {
   "name": "python"
  }
 },
 "nbformat": 4,
 "nbformat_minor": 2
}
