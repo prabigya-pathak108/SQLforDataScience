{
 "cells": [
  {
   "cell_type": "markdown",
   "metadata": {},
   "source": [
    "<h1 style=\"color:red\" align=\"center\">LIMIT, DISTINCT, ORDER BY Clause</h1>"
   ]
  },
  {
   "cell_type": "markdown",
   "metadata": {},
   "source": [
    "## Use of LIMIT, DISTINCT, and ORDER BY Clauses in Data Science\n",
    "\n",
    "## LIMIT Clause\n",
    "- **Purpose**: Retrieve a subset of rows from a dataset.\n",
    "- **Usage**: Useful for working with large datasets by limiting the number of rows returned.\n",
    "- **Example**: When exploring a dataset, data scientists might use the LIMIT clause to retrieve a small sample of rows for a quick overview.\n",
    "\n",
    "## DISTINCT Keyword\n",
    "- **Purpose**: Identify unique values within a dataset.\n",
    "- **Usage**: Helps in data cleaning and preprocessing by identifying unique categories, removing duplicates, and understanding data distribution.\n",
    "- **Example**: Data scientists might use the DISTINCT keyword to identify unique product categories in sales data or unique user IDs in engagement data.\n",
    "\n",
    "## ORDER BY Clause\n",
    "- **Purpose**: Sort data based on specific criteria.\n",
    "- **Usage**: Essential for preparing data for visualization and analysis, and gaining insights.\n",
    "- **Example**: Data scientists might use the ORDER BY clause to sort time-series data in chronological order or sort survey responses based on response scores.\n",
    "\n",
    "These clauses and keywords provide data scientists with the flexibility to manipulate and analyze datasets effectively, enabling them to extract valuable insights and make informed decisions in their data science projects.\n",
    "\n",
    "#### Use the ERD Diagram to understand and write queries :\n",
    "\n",
    "![ERD.png](attachment:ERD.png)\n"
   ]
  },
  {
   "cell_type": "markdown",
   "metadata": {},
   "source": [
    "## LIMIT Clause\n",
    "The LIMIT clause is used to restrict the number of rows returned by a query to a specified number.\n",
    "\n",
    "### Syntax\n",
    "```sql\n",
    "SELECT column1, column2, ...\n",
    "FROM table_name\n",
    "LIMIT number_of_rows;"
   ]
  },
  {
   "cell_type": "markdown",
   "metadata": {},
   "source": [
    "#### An example of showing just the first 5 rows of the orders table with all of the columns might look like the following :\n",
    "\n",
    "`SELECT * \n",
    "FROM orders \n",
    "LIMIT 5;`\n",
    "\n",
    "### Question\n",
    "\n",
    "#### Try using LIMIT yourself below by writing a query that displays all the data in the occurred_at, id, and channel columns of the web_events table, and limits the output to only the first 20 rows.\n",
    "\n",
    "`SELECT occurred_at, id, channel\n",
    "FROM web_events\n",
    "LIMIT 20;`"
   ]
  },
  {
   "cell_type": "markdown",
   "metadata": {},
   "source": [
    "# DISTINCT Clause in SQL\n",
    "\n",
    "## Definition\n",
    "The DISTINCT keyword in SQL is used to retrieve unique values from a column or set of columns in a database table.\n",
    "\n",
    "## Use Case\n",
    "- **Purpose**: Identify unique values within a dataset.\n",
    "- **Usage**: Helps in data cleaning and preprocessing by removing duplicates and understanding data distribution.\n",
    "- **Example**: Suppose we have a 'Products' table with a 'Category' column. Using DISTINCT, we can identify unique product categories in the dataset.\n",
    "  \n",
    "```sql\n",
    "SELECT DISTINCT Category\n",
    "FROM Products;\n"
   ]
  },
  {
   "cell_type": "markdown",
   "metadata": {},
   "source": [
    "#### An example of showing distinct id in the accounts table with name, website, lat and long assosiated with that id might look like the following :\n",
    "\n",
    "`SELECT DISTINCT id, name, website, lat, long\n",
    "FROM accounts;`"
   ]
  },
  {
   "cell_type": "markdown",
   "metadata": {},
   "source": [
    "## ORDER BY Clause in SQL\n",
    "\n",
    "### Definition\n",
    "The ORDER BY clause in SQL is used to sort the result set of a query based on one or more columns in ascending or descending order.\n",
    "\n",
    "### Use Case\n",
    "- **Purpose**: Sort data based on specific criteria.\n",
    "- **Usage**: Essential for preparing data for visualization, analysis, and gaining insights.\n",
    "- **Example**: Suppose we have a 'Sales' table with a 'SalesDate' column. Using ORDER BY, we can sort the sales data in chronological order.\n",
    "  \n",
    "```sql\n",
    "SELECT *\n",
    "FROM Sales\n",
    "ORDER BY SalesDate ASC;\n"
   ]
  },
  {
   "cell_type": "markdown",
   "metadata": {},
   "source": [
    "#### Note : Remember DESC can be added after the column in your ORDER BY statement to sort in descending order, as the default is to sort in ascending order.\n",
    "\n",
    "### Let's get some practice using ORDER BY :\n",
    "\n",
    "- #### 1- Write a query to return the 10 earliest orders in the orders table. Include the id, occurred_at, and total_amt_usd.\n",
    "\n",
    "`SELECT id, occurred_at, total_amt_usd\n",
    "FROM orders\n",
    "ORDER BY occurred_at\n",
    "LIMIT 10;`\n",
    "\n",
    "- #### 2- Write a query to return the top 5 orders in terms of largest total_amt_usd. Include the id, account_id, and total_amt_usd.\n",
    "\n",
    "`SELECT id, account_id, total_amt_usd\n",
    "FROM orders\n",
    "ORDER BY total_amt_usd DESC\n",
    "LIMIT 5;`\n",
    "\n",
    "- #### 3- Write a query to return the lowest 20 orders in terms of smallest total_amt_usd. Include the id, account_id, and total_amt_usd.\n",
    "\n",
    "`SELECT id, account_id, total_amt_usd\n",
    "FROM orders\n",
    "ORDER BY total_amt_usd\n",
    "LIMIT 20;`\n",
    "\n",
    "#### Note : You can also use ORDER BY on more than one column at a time. When you provide a list of columns in an ORDER BY command, the sorting occurs using the leftmost column in your list first, then the next column from the left, and so on. We still have the ability to flip the way we order using DESC.\n",
    "\n",
    "### Let's get some practice using ORDER BY with multiple columns :\n",
    "\n",
    "- #### 1- Write a query that displays the order ID, account ID, and total dollar amount for all the orders, sorted first by the account ID (in ascending order), and then by the total dollar amount (in descending order).\n",
    "\n",
    "`SELECT order_id, account_id, total_amt_usd\n",
    "FROM orders\n",
    "ORDER BY account_id, total_amt_usd DESC;`\n",
    "\n",
    "- #### 2- Write a query that again displays order ID, account ID, and total dollar amount for each order, but this time sorted first by total dollar amount (in descending order), and then by account ID (in ascending order).\n",
    "\n",
    "`SELECT order_id, account_id, total_amt_usd\n",
    "FROM orders\n",
    "ORDER BY total_amt_usd DESC, account_id;`"
   ]
  }
 ],
 "metadata": {
  "language_info": {
   "name": "python"
  }
 },
 "nbformat": 4,
 "nbformat_minor": 2
}
