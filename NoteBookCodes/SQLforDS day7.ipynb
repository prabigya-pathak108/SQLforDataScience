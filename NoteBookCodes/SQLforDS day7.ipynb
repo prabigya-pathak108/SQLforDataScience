{
 "cells": [
  {
   "cell_type": "markdown",
   "metadata": {},
   "source": [
    "# SQL Aggregation\n",
    "\n",
    "In SQL, aggregation functions are used to perform calculations on groups of rows to return a single result. These functions are often used with the GROUP BY clause to group rows based on certain criteria before applying the aggregation.It refers to the process of applying mathematical functions, such as SUM, AVG, COUNT, MIN, and MAX, to a set of values in a database table. These functions are used to perform calculations on groups of rows and return a single result. Aggregation is commonly used to summarize data, calculate totals, averages, counts, and identify minimum and maximum values within a dataset.\n",
    "\n",
    "#### Use the ERD Diagram to understand and write queries :\n",
    "\n",
    "![ERD.png](attachment:ERD.png)\n",
    "\n",
    "## Common Aggregation Functions\n",
    "\n",
    "1. **COUNT()**: Counts the number of rows in a group.\n",
    "2. **SUM()**: Calculates the sum of values in a group.\n",
    "3. **AVG()**: Calculates the average of values in a group.\n",
    "4. **MIN()**: Returns the minimum value in a group.\n",
    "5. **MAX()**: Returns the maximum value in a group.\n",
    "\n",
    "## Syntax\n",
    "```sql\n",
    "SELECT aggregation_function(column_name)\n",
    "FROM table_name\n",
    "[WHERE condition]\n",
    "[GROUP BY column_name];"
   ]
  },
  {
   "cell_type": "markdown",
   "metadata": {},
   "source": [
    "## Handling NULL Values in SQL\n",
    "\n",
    "In SQL, NULL is a special marker used to indicate that a data value does not exist or is unknown. NULL is not the same as zero or an empty string; it represents a missing or undefined value.\n",
    "\n",
    "### Characteristics of NULL\n",
    "\n",
    "- **Absence of Value**: NULL represents the absence of a value in a column.\n",
    "- **Not Comparable**: NULL cannot be compared using equality operators (=, !=). Instead, special operators like IS NULL and IS NOT NULL are used to check for NULL values.\n",
    "- **Aggregation**: Aggregation functions like SUM() and AVG() exclude NULL values from calculations.\n",
    "- **Sorting**: NULL values are treated differently in sorting operations. They are typically considered greater than or less than non-NULL values, depending on the sorting order.\n",
    "- **Storage**: NULL values do not occupy any storage space in the database.\n",
    "\n",
    "### Handling NULL Values\n",
    "\n",
    "1. **Checking for NULL**: Use the IS NULL or IS NOT NULL operators to check whether a value is NULL.\n",
    "   ```sql\n",
    "   SELECT column_name\n",
    "   FROM table_name\n",
    "   WHERE column_name IS NULL;"
   ]
  },
  {
   "cell_type": "markdown",
   "metadata": {},
   "source": [
    "2. **Replacing NULL**:COALESCE() or IFNULL() functions can be used to replace NULL values with a specified default value.\n",
    "   ```sql\n",
    "   SELECT COALESCE(column_name, default_value) AS alias\n",
    "   FROM table_name;\n"
   ]
  },
  {
   "cell_type": "markdown",
   "metadata": {},
   "source": [
    "3. **Aggregation Functions**:NULL values are typically excluded from aggregation calculations. Use the IFNULL() function to handle NULL values in aggregate functions.\n",
    "   ```sql\n",
    "   SELECT SUM(IFNULL(column_name, 0)) AS total_sum\n",
    "   FROM table_name;"
   ]
  },
  {
   "cell_type": "markdown",
   "metadata": {},
   "source": [
    "#### Example\n",
    "Write a query that returns all the web_events where the channel is present.\n",
    "\n",
    "```sql\n",
    "    SELECT *\n",
    "    FROM web_events\n",
    "    WHERE channel IS NOT NULL;"
   ]
  },
  {
   "cell_type": "markdown",
   "metadata": {},
   "source": [
    "## COUNT Function in SQL\n",
    "\n",
    "The COUNT function in SQL is used to count the number of rows in a result set or the number of non-NULL values in a specific column.\n",
    "\n",
    "### Syntax\n",
    "\n",
    "To count all rows in a result set:\n",
    "```sql\n",
    "    SELECT COUNT(*)\n",
    "    FROM table_name;\n",
    "\n",
    "```sql\n",
    "    SELECT COUNT(column_name) \n",
    "    FROM table_name \n",
    "    WHERE condition;"
   ]
  },
  {
   "cell_type": "markdown",
   "metadata": {},
   "source": [
    "#### Example1\n",
    "To count the total number of rows in a table orders in SQL, you can use the COUNT(*) function. Here's how you can do it:\n",
    "\n",
    "```sql\n",
    "SELECT COUNT(*) AS TotalRows\n",
    "FROM orders;\n",
    "```\n",
    "The above query will return a single row containing the total number of rows in the table orders under the column alias \"TotalRows.\""
   ]
  },
  {
   "cell_type": "markdown",
   "metadata": {},
   "source": [
    "#### Example2\n",
    "Counting Rows Based on Condition in SQL\n",
    "\n",
    "To count the number of rows in a table based on a specific condition, you can use the COUNT function with a WHERE clause. Here's how you can do it:\n",
    "\n",
    "```sql\n",
    "    SELECT COUNT(*)\n",
    "    FROM table_name\n",
    "    WHERE condition;\n",
    "```\n",
    "Count total number of records where total paid amount is less than 1000.\n",
    "\n",
    "```sql\n",
    "    SELECT COUNT(*) AS TotalRows\n",
    "    FROM orders\n",
    "    WHERE total<1000;\n",
    "```\n"
   ]
  },
  {
   "cell_type": "markdown",
   "metadata": {},
   "source": [
    "#### Example3\n",
    "Handling NULL Values with COUNT\n",
    "\n",
    "It's important to note that the COUNT function, by default, includes NULL values in its calculation. If you want to exclude NULL values, you can use the COUNT function with a specific column name that does not contain NULL values.\n",
    "\n",
    "```sql\n",
    "    SELECT COUNT(column_name) \n",
    "    FROM table_name \n",
    "    WHERE column_name IS NOT NULL;\n",
    "```"
   ]
  },
  {
   "cell_type": "markdown",
   "metadata": {},
   "source": [
    "# SUM Function in SQL\n",
    "\n",
    "The SUM function in SQL is used to calculate the sum of values in a column.\n",
    "\n",
    "## Syntax\n",
    "\n",
    "To calculate the sum of values in a column:\n",
    "```sql\n",
    "SELECT SUM(column_name)\n",
    "FROM table_name;"
   ]
  },
  {
   "cell_type": "markdown",
   "metadata": {},
   "source": [
    "#### Example \n",
    "Write a query that returns the sum of all standard quality of paper from orders table where total_amt_usd is greaer than 1000.\n",
    "\n",
    "```sql\n",
    "    SELECT SUM(standard_qty)\n",
    "    FROM orders\n",
    "    WHERE total_amt_usd > 1000;"
   ]
  },
  {
   "cell_type": "markdown",
   "metadata": {},
   "source": [
    "## MIN and MAX Functions in SQL\n",
    "\n",
    "The MIN and MAX functions in SQL are used to find the minimum and maximum values in a column, respectively.\n",
    "\n",
    "### Syntax\n",
    "\n",
    "To find the minimum value in a column:\n",
    "```sql\n",
    "    SELECT MIN(column_name)\n",
    "    FROM table_name;\n",
    "```\n",
    "\n",
    "To find the maximum value in a column:\n",
    "```sql\n",
    "    SELECT MAX(column_name)\n",
    "    FROM table_name;\n",
    "\n",
    "```\n",
    "\n",
    "## AVG Function in SQL\n",
    "\n",
    "The AVG function in SQL is used to calculate the average value of a column.\n",
    "\n",
    "### Syntax\n",
    "\n",
    "To calculate the average value of a column:\n",
    "```sql\n",
    "SELECT AVG(column_name)\n",
    "FROM table_name;\n",
    "```\n",
    "\n",
    "#### Example\n",
    "To calculate the average total_amt_used score from the \"orders\" table, we can use the following query :\n",
    "\n",
    "```sql\n",
    "    SELECT AVG(total_amt_used) AS average_total_amt_used FROM orders;\n",
    "```\n",
    "\n",
    "The above query will return a single row containing the average total_amt_used of all students under the column alias \"average_total_amt_usedd.\""
   ]
  }
 ],
 "metadata": {
  "language_info": {
   "name": "python"
  }
 },
 "nbformat": 4,
 "nbformat_minor": 2
}
